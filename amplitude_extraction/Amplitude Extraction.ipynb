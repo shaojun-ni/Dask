{
 "cells": [
  {
   "cell_type": "code",
   "execution_count": null,
   "metadata": {},
   "outputs": [],
   "source": [
    "from geoio.geoio import GeoIoVolume, GeoIoHorizonCollection\n",
    "import Patched_Extraction as PE\n",
    "import plot\n",
    "import importlib\n",
    "import numpy as np\n",
    "import os"
   ]
  },
  {
   "cell_type": "code",
   "execution_count": null,
   "metadata": {},
   "outputs": [],
   "source": [
    "vt_file = '/glb/hou/ua.sepco/xdigi/fast_track_projects/Well-Outcome-Predictor/input/box20_kirchoff_25x20_large_new_T.vt'\n",
    "int_file = '/glb/hou/ua.sepco/xdigi/fast_track_projects/Well-Outcome-Predictor/input/horizon_55_15_03_time.int'\n",
    "\n",
    "vt = GeoIoVolume(vt_file)\n",
    "hc = GeoIoHorizonCollection(int_file)\n",
    "# survey = vt.get_survey()\n",
    "# events = hc.get_event_names()''"
   ]
  },
  {
   "cell_type": "code",
   "execution_count": null,
   "metadata": {
    "scrolled": true
   },
   "outputs": [],
   "source": [
    "%%time\n",
    "\n",
    "'''\n",
    "Format: PExtraact(GeoIoVolume, GeoIoHorizonCollection, Method of Extraction, Top window, Bottom window, \n",
    "                  Number of patches in I directon, Number of patches in J direction )\n",
    "You can use inst, rms, avg, sna, spa, saa for method of extraction.\n",
    "'''\n",
    "\n",
    "importlib.reload(PE)\n",
    "inst_amp = PE.PExtract(vt, hc,'inst', top_window=2, bottom_window=4,\n",
    "                       number_of_i_patches=10, number_of_j_patches=15)"
   ]
  },
  {
   "cell_type": "code",
   "execution_count": null,
   "metadata": {
    "scrolled": true
   },
   "outputs": [],
   "source": [
    "for i in range(len(inst_amp)):\n",
    "    plot.plot_horizon(inst_amp[i], 'Instant Amplitude')"
   ]
  },
  {
   "cell_type": "code",
   "execution_count": null,
   "metadata": {},
   "outputs": [],
   "source": [
    "# Save INT file\n",
    "\n",
    "header = hc.get_header_info()\n",
    "survey=hc.get_survey()\n",
    "Output = GeoIoHorizonCollection('Output.int',header,survey)\n",
    "Event = Output.create_event(\"Instant_Amplitude[0]\")\n",
    "Event.put(inst_amp[0].copy(order='F').astype(np.float32))\n",
    "del Event"
   ]
  },
  {
   "cell_type": "code",
   "execution_count": null,
   "metadata": {},
   "outputs": [],
   "source": []
  },
  {
   "cell_type": "code",
   "execution_count": null,
   "metadata": {},
   "outputs": [],
   "source": []
  }
 ],
 "metadata": {
  "kernelspec": {
   "display_name": "Python 3",
   "language": "python",
   "name": "python3"
  },
  "language_info": {
   "codemirror_mode": {
    "name": "ipython",
    "version": 3
   },
   "file_extension": ".py",
   "mimetype": "text/x-python",
   "name": "python",
   "nbconvert_exporter": "python",
   "pygments_lexer": "ipython3",
   "version": "3.7.4"
  }
 },
 "nbformat": 4,
 "nbformat_minor": 2
}
