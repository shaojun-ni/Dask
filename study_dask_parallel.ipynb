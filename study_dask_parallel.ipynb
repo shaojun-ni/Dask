{
 "cells": [
  {
   "cell_type": "code",
   "execution_count": 1,
   "metadata": {},
   "outputs": [],
   "source": [
    "import dask\n",
    "import time\n",
    "import sys\n",
    "from datetime import timedelta\n",
    "from dask import delayed, compute\n",
    "import numpy as np\n",
    "import dask.array as da\n",
    "from dask.distributed import Client\n",
    "from IPython.display import SVG, display\n"
   ]
  },
  {
   "cell_type": "code",
   "execution_count": 2,
   "metadata": {},
   "outputs": [
    {
     "name": "stdout",
     "output_type": "stream",
     "text": [
      "Func1\n",
      "Func2\n",
      "Func3\n",
      "Func4\n",
      "33\n",
      "CPU times: user 2.99 ms, sys: 793 µs, total: 3.78 ms\n",
      "Wall time: 6.01 s\n"
     ]
    }
   ],
   "source": [
    "%%time\n",
    "\n",
    "def func1(a):\n",
    "    print('Func1')\n",
    "    time.sleep(2)\n",
    "    return a + a\n",
    "\n",
    "\n",
    "def func2(a):\n",
    "    print('Func2')\n",
    "    time.sleep(2)\n",
    "    return a * a\n",
    "\n",
    "\n",
    "def func3(a):\n",
    "    print('Func3')\n",
    "    time.sleep(2)\n",
    "    return a * a * a\n",
    "\n",
    "\n",
    "def func4(a, b, c):\n",
    "    print('Func4')\n",
    "    return a + b + c\n",
    "\n",
    "def serial(a, b, c):\n",
    "    a = func1(a)\n",
    "    b = func2(b)\n",
    "    c = func3(c)\n",
    "    print(func4(a, b, c))\n",
    "    \n",
    "serial(1, 2, 3)\n",
    "# Runs func1, func2, func3 serially, gets the result pass to func4."
   ]
  },
  {
   "cell_type": "code",
   "execution_count": 3,
   "metadata": {},
   "outputs": [
    {
     "name": "stdout",
     "output_type": "stream",
     "text": [
      "Func1Func2\n",
      "Func3\n",
      "\n",
      "Func4\n",
      "33\n",
      "CPU times: user 5.85 ms, sys: 4.88 ms, total: 10.7 ms\n",
      "Wall time: 2.02 s\n"
     ]
    }
   ],
   "source": [
    "%%time\n",
    "\n",
    "@delayed\n",
    "def func1(a):\n",
    "    print('Func1')\n",
    "    time.sleep(2)\n",
    "    return a + a\n",
    "\n",
    "@delayed\n",
    "def func2(a):\n",
    "    print('Func2')\n",
    "    time.sleep(2)\n",
    "    return a * a\n",
    "\n",
    "@delayed\n",
    "def func3(a):\n",
    "    print('Func3')\n",
    "    time.sleep(2)\n",
    "    return a * a * a\n",
    "\n",
    "@delayed\n",
    "def func4(a, b, c):\n",
    "    print('Func4')\n",
    "    return a + b + c\n",
    "\n",
    "def parallel(a, b, c):\n",
    "    a = func1(a)\n",
    "    b = func2(b)\n",
    "    c = func3(c)\n",
    "    print(func4(a, b, c).compute())\n",
    "    \n",
    "parallel(1, 2, 3)\n",
    "\n",
    "# func1, func2, func3 run parallely, than pass the result to func4"
   ]
  },
  {
   "cell_type": "code",
   "execution_count": 4,
   "metadata": {},
   "outputs": [],
   "source": [
    "def show_graph(a, b, c):\n",
    "    a = func1(a)\n",
    "    b = func2(b)\n",
    "    c = func3(c)\n",
    "    print(func4(a, b, c).visualize(filename='test.svg'))\n",
    "    \n",
    "# generate parallel diagram"
   ]
  },
  {
   "cell_type": "code",
   "execution_count": 5,
   "metadata": {},
   "outputs": [],
   "source": [
    "def test_numpy_array(x, y):\n",
    "    a = np.random.random((x, y))\n",
    "    a[a < 0.5] = 0\n",
    "    s = a + a.T * a.T\n",
    "\n",
    "    print(np.sum(s))"
   ]
  },
  {
   "cell_type": "code",
   "execution_count": 6,
   "metadata": {},
   "outputs": [
    {
     "name": "stdout",
     "output_type": "stream",
     "text": [
      "66662521.31315274\n",
      "CPU times: user 6.49 s, sys: 630 ms, total: 7.12 s\n",
      "Wall time: 2.49 s\n"
     ]
    }
   ],
   "source": [
    "%%time\n",
    "\n",
    "test_numpy_array(10000, 10000)"
   ]
  },
  {
   "cell_type": "code",
   "execution_count": 7,
   "metadata": {},
   "outputs": [],
   "source": [
    "def test_dask_array(x, y):\n",
    "    a = da.random.random(size=(x, y))\n",
    "    a[a < 0.5] = 0\n",
    "    s = a + a.T * a.T\n",
    "\n",
    "    print(da.sum(s).compute())"
   ]
  },
  {
   "cell_type": "code",
   "execution_count": 8,
   "metadata": {},
   "outputs": [
    {
     "name": "stdout",
     "output_type": "stream",
     "text": [
      "66656708.3104638\n",
      "CPU times: user 15.8 s, sys: 14.7 s, total: 30.5 s\n",
      "Wall time: 1.42 s\n"
     ]
    }
   ],
   "source": [
    "%%time \n",
    "\n",
    "test_dask_array(10000,10000)"
   ]
  },
  {
   "cell_type": "code",
   "execution_count": null,
   "metadata": {},
   "outputs": [],
   "source": [
    "def test_dask_array_graph(x, y):\n",
    "    a = da.random.random(size=(x, y))\n",
    "    a[a < 0.5] = 0\n",
    "    s = a + a.T * a.T\n",
    "\n",
    "    print(da.sum(s).visualize('da_array.svg'))"
   ]
  },
  {
   "cell_type": "code",
   "execution_count": 10,
   "metadata": {},
   "outputs": [],
   "source": [
    "# run by multiple processes instead of threads\n",
    "\n",
    "def test_dask_array_process(x, y):\n",
    "    a = da.random.random(size=(x, y))\n",
    "    a[a < 0.5] = 0\n",
    "    s = a + a.T * a.T\n",
    "\n",
    "    print(da.sum(s).compute(scheduler='Processes'))"
   ]
  },
  {
   "cell_type": "code",
   "execution_count": 11,
   "metadata": {},
   "outputs": [
    {
     "name": "stdout",
     "output_type": "stream",
     "text": [
      "66672006.76043082\n",
      "CPU times: user 1.97 s, sys: 3.94 s, total: 5.91 s\n",
      "Wall time: 5.71 s\n"
     ]
    }
   ],
   "source": [
    "%%time\n",
    "\n",
    "test_dask_array_process(10000,10000)"
   ]
  },
  {
   "cell_type": "code",
   "execution_count": 12,
   "metadata": {},
   "outputs": [
    {
     "data": {
      "text/plain": [
       "array([[ 0,  1,  2,  3,  4,  5,  6,  7],\n",
       "       [ 8,  9, 10, 11, 12, 13, 14, 15],\n",
       "       [16, 17, 18, 19, 20, 21, 22, 23],\n",
       "       [24, 25, 26, 27, 28, 29, 30, 31],\n",
       "       [32, 33, 34, 35, 36, 37, 38, 39],\n",
       "       [40, 41, 42, 43, 44, 45, 46, 47],\n",
       "       [48, 49, 50, 51, 52, 53, 54, 55],\n",
       "       [56, 57, 58, 59, 60, 61, 62, 63]])"
      ]
     },
     "execution_count": 12,
     "metadata": {},
     "output_type": "execute_result"
    }
   ],
   "source": [
    "x = np.arange(64).reshape((8, 8))\n",
    "d = da.from_array(x, chunks=(5, 5))\n",
    "d.chunks\n",
    "np.array(d)\n"
   ]
  },
  {
   "cell_type": "code",
   "execution_count": 13,
   "metadata": {},
   "outputs": [
    {
     "data": {
      "text/plain": [
       "array([[100, 100, 100, 100, 100, 100, 100, 100, 100, 100, 100, 100],\n",
       "       [100, 100, 100, 100, 100, 100, 100, 100, 100, 100, 100, 100],\n",
       "       [  0,   0,   1,   2,   3,   4,   5,   4,   5,   6,   7,   7],\n",
       "       [  8,   8,   9,  10,  11,  12,  13,  12,  13,  14,  15,  15],\n",
       "       [ 16,  16,  17,  18,  19,  20,  21,  20,  21,  22,  23,  23],\n",
       "       [ 24,  24,  25,  26,  27,  28,  29,  28,  29,  30,  31,  31],\n",
       "       [ 32,  32,  33,  34,  35,  36,  37,  36,  37,  38,  39,  39],\n",
       "       [ 40,  40,  41,  42,  43,  44,  45,  44,  45,  46,  47,  47],\n",
       "       [ 48,  48,  49,  50,  51,  52,  53,  52,  53,  54,  55,  55],\n",
       "       [ 24,  24,  25,  26,  27,  28,  29,  28,  29,  30,  31,  31],\n",
       "       [ 32,  32,  33,  34,  35,  36,  37,  36,  37,  38,  39,  39],\n",
       "       [ 40,  40,  41,  42,  43,  44,  45,  44,  45,  46,  47,  47],\n",
       "       [ 48,  48,  49,  50,  51,  52,  53,  52,  53,  54,  55,  55],\n",
       "       [ 56,  56,  57,  58,  59,  60,  61,  60,  61,  62,  63,  63],\n",
       "       [100, 100, 100, 100, 100, 100, 100, 100, 100, 100, 100, 100],\n",
       "       [100, 100, 100, 100, 100, 100, 100, 100, 100, 100, 100, 100]])"
      ]
     },
     "execution_count": 13,
     "metadata": {},
     "output_type": "execute_result"
    }
   ],
   "source": [
    "g = da.overlap.overlap(d, depth={0: 2, 1: 1},\n",
    "                     boundary={0: 100, 1: 'reflect'})\n",
    "g.chunks\n",
    "np.array(g)"
   ]
  },
  {
   "cell_type": "code",
   "execution_count": 14,
   "metadata": {},
   "outputs": [
    {
     "data": {
      "text/plain": [
       "array([[100, 100, 100, 100, 100, 100, 100, 100, 100, 100, 100, 100],\n",
       "       [100, 100, 100, 100, 100, 100, 100, 100, 100, 100, 100, 100],\n",
       "       [  7,   0,   1,   2,   3,   4,   5,   4,   5,   6,   7,   0],\n",
       "       [ 15,   8,   9,  10,  11,  12,  13,  12,  13,  14,  15,   8],\n",
       "       [ 23,  16,  17,  18,  19,  20,  21,  20,  21,  22,  23,  16],\n",
       "       [ 31,  24,  25,  26,  27,  28,  29,  28,  29,  30,  31,  24],\n",
       "       [ 39,  32,  33,  34,  35,  36,  37,  36,  37,  38,  39,  32],\n",
       "       [ 47,  40,  41,  42,  43,  44,  45,  44,  45,  46,  47,  40],\n",
       "       [ 55,  48,  49,  50,  51,  52,  53,  52,  53,  54,  55,  48],\n",
       "       [ 31,  24,  25,  26,  27,  28,  29,  28,  29,  30,  31,  24],\n",
       "       [ 39,  32,  33,  34,  35,  36,  37,  36,  37,  38,  39,  32],\n",
       "       [ 47,  40,  41,  42,  43,  44,  45,  44,  45,  46,  47,  40],\n",
       "       [ 55,  48,  49,  50,  51,  52,  53,  52,  53,  54,  55,  48],\n",
       "       [ 63,  56,  57,  58,  59,  60,  61,  60,  61,  62,  63,  56],\n",
       "       [100, 100, 100, 100, 100, 100, 100, 100, 100, 100, 100, 100],\n",
       "       [100, 100, 100, 100, 100, 100, 100, 100, 100, 100, 100, 100]])"
      ]
     },
     "execution_count": 14,
     "metadata": {},
     "output_type": "execute_result"
    }
   ],
   "source": [
    "g = da.overlap.overlap(d, depth={0: 2, 1: 1},\n",
    "                     boundary={0: 100, 1: 'periodic'})\n",
    "g.chunks\n",
    "np.array(g)"
   ]
  },
  {
   "cell_type": "code",
   "execution_count": 15,
   "metadata": {},
   "outputs": [
    {
     "data": {
      "text/plain": [
       "array([[ 0,  1,  2,  3,  4,  5,  6,  7],\n",
       "       [ 8,  9, 10, 11, 12, 13, 14, 15],\n",
       "       [16, 17, 18, 19, 20, 21, 22, 23],\n",
       "       [24, 25, 26, 27, 28, 29, 30, 31],\n",
       "       [32, 33, 34, 35, 36, 37, 38, 39],\n",
       "       [40, 41, 42, 43, 44, 45, 46, 47],\n",
       "       [48, 49, 50, 51, 52, 53, 54, 55],\n",
       "       [56, 57, 58, 59, 60, 61, 62, 63]])"
      ]
     },
     "execution_count": 15,
     "metadata": {},
     "output_type": "execute_result"
    }
   ],
   "source": [
    "n = da.overlap.trim_overlap(g, depth={0:2, 1:1})\n",
    "np.array(n)\n",
    "\n",
    "# what do you expect the output?"
   ]
  },
  {
   "cell_type": "code",
   "execution_count": 16,
   "metadata": {},
   "outputs": [
    {
     "data": {
      "text/plain": [
       "array([[200, 200, 200, 200, 200, 200, 200, 200, 200, 200, 200, 200],\n",
       "       [100, 100, 101, 102, 103, 104, 105, 104, 105, 106, 107, 107],\n",
       "       [  8,   8,  10,  12,  14,  16,  18,  16,  18,  20,  22,  22],\n",
       "       [ 24,  24,  26,  28,  30,  32,  34,  32,  34,  36,  38,  38],\n",
       "       [ 40,  40,  42,  44,  46,  48,  50,  48,  50,  52,  54,  54],\n",
       "       [ 56,  56,  58,  60,  62,  64,  66,  64,  66,  68,  70,  70],\n",
       "       [ 72,  72,  74,  76,  78,  80,  82,  80,  82,  84,  86,  86],\n",
       "       [ 88,  88,  90,  92,  94,  96,  98,  96,  98, 100, 102, 102],\n",
       "       [ 48,  48,  49,  50,  51,  52,  53,  52,  53,  54,  55,  55],\n",
       "       [ 56,  56,  58,  60,  62,  64,  66,  64,  66,  68,  70,  70],\n",
       "       [ 72,  72,  74,  76,  78,  80,  82,  80,  82,  84,  86,  86],\n",
       "       [ 88,  88,  90,  92,  94,  96,  98,  96,  98, 100, 102, 102],\n",
       "       [104, 104, 106, 108, 110, 112, 114, 112, 114, 116, 118, 118],\n",
       "       [156, 156, 157, 158, 159, 160, 161, 160, 161, 162, 163, 163],\n",
       "       [200, 200, 200, 200, 200, 200, 200, 200, 200, 200, 200, 200],\n",
       "       [100, 100, 100, 100, 100, 100, 100, 100, 100, 100, 100, 100]])"
      ]
     },
     "execution_count": 16,
     "metadata": {},
     "output_type": "execute_result"
    }
   ],
   "source": [
    "# compute with overlap, map function no parameters\n",
    "def func(a):\n",
    "    for i in range (0, a.shape[0] - 1):\n",
    "        a[i] = a[i] + a[i+1]\n",
    "    #a = a + x1 + y1\n",
    "    return a\n",
    "\n",
    "k = da.map_overlap(d, func, depth={0:2, 1:1}, boundary={0: 100, 1: 'reflect'} ,dtype=g.dtype, trim=False)\n",
    "np.array(k)"
   ]
  },
  {
   "cell_type": "code",
   "execution_count": 17,
   "metadata": {},
   "outputs": [
    {
     "data": {
      "text/plain": [
       "array([[  8,  10,  12,  14,  16,  18,  20,  22],\n",
       "       [ 24,  26,  28,  30,  32,  34,  36,  38],\n",
       "       [ 40,  42,  44,  46,  48,  50,  52,  54],\n",
       "       [ 56,  58,  60,  62,  64,  66,  68,  70],\n",
       "       [ 72,  74,  76,  78,  80,  82,  84,  86],\n",
       "       [ 88,  90,  92,  94,  96,  98, 100, 102],\n",
       "       [104, 106, 108, 110, 112, 114, 116, 118],\n",
       "       [156, 157, 158, 159, 160, 161, 162, 163]])"
      ]
     },
     "execution_count": 17,
     "metadata": {},
     "output_type": "execute_result"
    }
   ],
   "source": [
    "def func(a):\n",
    "    for i in range (0, a.shape[0] - 1):\n",
    "        a[i] = a[i] + a[i+1]\n",
    "    #a = a + x1 + y1\n",
    "    return a\n",
    "\n",
    "k = da.map_overlap(d, func, depth={0:2, 1:1}, boundary={0: 100, 1: 'reflect'} ,dtype=g.dtype)\n",
    "np.array(k)\n",
    "\n",
    "# trim the extra data"
   ]
  },
  {
   "cell_type": "code",
   "execution_count": null,
   "metadata": {},
   "outputs": [],
   "source": [
    "# map function with parameter\n",
    "\n",
    "def func(a, x1, y1):\n",
    "    for i in range (0, a.shape[0] - 1):\n",
    "        a[i] = a[i] + a[i+1]\n",
    "    a = a + x1 + y1\n",
    "    return a\n",
    "\n",
    "k = da.map_overlap(d, func, depth={0:2, 1:1}, boundary={0: 100, 1: 'reflect'} ,dtype=g.dtype, x1=1, y1=2)\n",
    "np.array(k)"
   ]
  },
  {
   "cell_type": "code",
   "execution_count": null,
   "metadata": {},
   "outputs": [],
   "source": []
  }
 ],
 "metadata": {
  "kernelspec": {
   "display_name": "Python 3",
   "language": "python",
   "name": "python3"
  },
  "language_info": {
   "codemirror_mode": {
    "name": "ipython",
    "version": 3
   },
   "file_extension": ".py",
   "mimetype": "text/x-python",
   "name": "python",
   "nbconvert_exporter": "python",
   "pygments_lexer": "ipython3",
   "version": "3.7.3"
  }
 },
 "nbformat": 4,
 "nbformat_minor": 2
}
